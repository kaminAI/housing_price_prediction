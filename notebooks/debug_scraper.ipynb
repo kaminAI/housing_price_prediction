{
 "metadata": {
  "language_info": {
   "codemirror_mode": {
    "name": "ipython",
    "version": 3
   },
   "file_extension": ".py",
   "mimetype": "text/x-python",
   "name": "python",
   "nbconvert_exporter": "python",
   "pygments_lexer": "ipython3",
   "version": "3.7.7"
  },
  "orig_nbformat": 2,
  "kernelspec": {
   "name": "python377jvsc74a57bd08a0f5081af5f727fbe2cb171fdebdfa161bedbbfec7688b4027857c23ec85d56",
   "display_name": "Python 3.7.7 64-bit ('py37': conda)"
  }
 },
 "nbformat": 4,
 "nbformat_minor": 2,
 "cells": [
  {
   "cell_type": "code",
   "execution_count": 3,
   "metadata": {},
   "outputs": [],
   "source": [
    "%load_ext autoreload\n",
    "%autoreload 2\n",
    "\n",
    "import os; import sys; from pathlib import Path\n",
    "root = Path(os.getcwd()).parents[0]\n",
    "sys.path.append(str(root))\n"
   ]
  },
  {
   "cell_type": "code",
   "execution_count": 14,
   "metadata": {},
   "outputs": [],
   "source": [
    "from tqdm import tqdm\n",
    "from src.data import get_sold_item_hrefs\n",
    "from src.data import get_property_details"
   ]
  },
  {
   "cell_type": "code",
   "execution_count": 27,
   "metadata": {},
   "outputs": [
    {
     "output_type": "stream",
     "name": "stderr",
     "text": [
      "items page 42: 100%|██████████| 35/35 [00:02<00:00, 13.25it/s]\n"
     ]
    }
   ],
   "source": [
    "page = 42\n",
    "url = f'https://www.booli.se/slutpriser/stockholms+innerstad/143?objectType=L%C3%A4genhet&sort=soldDate&page={page}'\n",
    "item_hrefs = get_sold_item_hrefs(url)\n",
    "\n",
    "L = []\n",
    "for href in tqdm(item_hrefs, desc=f'items page {page}', leave=True):\n",
    "    #print(href)\n",
    "    d = get_property_details(href)\n",
    "\n",
    "    \n",
    "    if bool(d): # non empty dict\n",
    "        L.append(d)\n"
   ]
  },
  {
   "cell_type": "code",
   "execution_count": null,
   "metadata": {},
   "outputs": [],
   "source": []
  }
 ]
}