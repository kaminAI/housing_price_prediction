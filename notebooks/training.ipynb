{
 "cells": [
  {
   "cell_type": "code",
   "execution_count": 1,
   "id": "26afac29-5da6-46ea-b302-486dcb3a8755",
   "metadata": {},
   "outputs": [],
   "source": [
    "%load_ext autoreload\n",
    "%autoreload 2\n",
    "\n",
    "import os; import sys; from pathlib import Path\n",
    "root = Path(os.getcwd()).parents[0]\n",
    "sys.path.append(str(root))\n"
   ]
  },
  {
   "cell_type": "code",
   "execution_count": 2,
   "id": "a8fc62f5-af5b-42ee-a3c7-c8538c846ddf",
   "metadata": {},
   "outputs": [],
   "source": [
    "import pandas as pd\n",
    "import numpy as np\n",
    "from sklearn import linear_model \n",
    "from sklearn.metrics import mean_squared_error\n",
    "from torch.utils.data import DataLoader, TensorDataset\n",
    "from pytorch_lightning.callbacks import ModelCheckpoint\n",
    "import torch\n",
    "import pytorch_lightning as pl\n",
    "from src.model import Regressor\n"
   ]
  },
  {
   "cell_type": "code",
   "execution_count": 3,
   "id": "0097e969-914f-450c-ab8f-e2e4f324dfe1",
   "metadata": {},
   "outputs": [],
   "source": [
    "# load data\n",
    "\n",
    "X_train = pd.read_csv('../data/X_train.csv')\n",
    "X_val = pd.read_csv('../data/X_val.csv')\n",
    "X_test = pd.read_csv('../data/X_test.csv')\n",
    "y_train = pd.read_csv('../data/y_train.csv')\n",
    "y_val = pd.read_csv('../data/y_val.csv')\n",
    "y_test = pd.read_csv('../data/y_test.csv')\n"
   ]
  },
  {
   "cell_type": "code",
   "execution_count": 4,
   "id": "1101f787-3d78-4171-bfbf-e3b056e7609c",
   "metadata": {},
   "outputs": [
    {
     "name": "stdout",
     "output_type": "stream",
     "text": [
      "RMSE val: 8.30\n",
      "RMSE test: 8.15\n"
     ]
    }
   ],
   "source": [
    "# simple model, baseline \n",
    "\n",
    "regr = linear_model.LinearRegression()\n",
    "regr.fit(X_train, y_train)\n",
    "\n",
    "y_pred_val = regr.predict(X_val)\n",
    "rmse_val = np.sqrt(mean_squared_error(y_val, y_pred_val))\n",
    "print(f'RMSE val: {rmse_val:.2f}')\n",
    "\n",
    "y_pred_test = regr.predict(X_test)\n",
    "rmse_test = np.sqrt(mean_squared_error(y_test, y_pred_test))\n",
    "print(f'RMSE test: {rmse_test:.2f}')\n"
   ]
  },
  {
   "cell_type": "code",
   "execution_count": 5,
   "id": "c2d8dd3b-ed66-43ca-9078-8bcab8a5e6a3",
   "metadata": {},
   "outputs": [],
   "source": [
    "# hot DL model\n",
    "# ref: \n",
    "    # https://pytorch-lightning.readthedocs.io/en/latest/starter/introduction_guide.html\n",
    "    # https://colab.research.google.com/github/PytorchLightning/pytorch-lightning/blob/master/notebooks/01-mnist-hello-world.ipynb#scrollTo=PA151FkLtprO\n"
   ]
  },
  {
   "cell_type": "code",
   "execution_count": 6,
   "id": "e2dc0598-9034-4abc-942e-0235c115dacb",
   "metadata": {},
   "outputs": [],
   "source": [
    "# prepare data loaders\n",
    "\n",
    "train_dataset = TensorDataset(\n",
    "    torch.tensor(X_train.values).float(),\n",
    "    torch.tensor(y_train.values).float()\n",
    ")\n",
    "\n",
    "train_loader = DataLoader(\n",
    "    dataset=train_dataset,\n",
    "    batch_size=128,\n",
    "    num_workers=0,\n",
    "    shuffle=True\n",
    ")\n",
    "\n",
    "val_dataset = TensorDataset(\n",
    "    torch.tensor(X_val.values).float(),\n",
    "    torch.tensor(y_val.values).float()\n",
    ")\n",
    "\n",
    "val_loader = DataLoader(\n",
    "    dataset=val_dataset,\n",
    "    batch_size=128,\n",
    "    num_workers=0,\n",
    "    shuffle=False\n",
    ")\n"
   ]
  },
  {
   "cell_type": "code",
   "execution_count": 7,
   "id": "c94b1f09-6750-44fc-9724-fea865b4c2a8",
   "metadata": {},
   "outputs": [
    {
     "name": "stderr",
     "output_type": "stream",
     "text": [
      "GPU available: False, used: False\n",
      "TPU available: False, using: 0 TPU cores\n"
     ]
    },
    {
     "name": "stdout",
     "output_type": "stream",
     "text": [
      "Regressor(\n",
      "  (fc1): Linear(in_features=14, out_features=32, bias=True)\n",
      "  (fc2): Linear(in_features=32, out_features=64, bias=True)\n",
      "  (fc3): Linear(in_features=64, out_features=32, bias=True)\n",
      "  (fc4): Linear(in_features=32, out_features=1, bias=True)\n",
      ")\n"
     ]
    }
   ],
   "source": [
    "# prepare training\n",
    "\n",
    "# inspect by tensorboard --logdir ./tb_logs in terminal\n",
    "logger = pl.loggers.TensorBoardLogger(\n",
    "    save_dir='../tb_logs',\n",
    "    name='regressor',\n",
    "    default_hp_metric=False,\n",
    "\n",
    ")\n",
    "\n",
    "checkpoint_callback = ModelCheckpoint(\n",
    "    monitor='avg_rmse_val',\n",
    "    mode='min',\n",
    "    dirpath='../model_checkpoints',\n",
    "    filename='{epoch}-{avg_rmse_val:.2f}',\n",
    "    save_top_k=1,\n",
    "    verbose=True,\n",
    ")\n",
    "\n",
    "trainer = pl.Trainer(\n",
    "    fast_dev_run=False,\n",
    "    max_epochs=100,\n",
    "    logger=logger,\n",
    "    callbacks=[checkpoint_callback],\n",
    "    progress_bar_refresh_rate=0\n",
    ")  \n",
    "\n",
    "model = Regressor()\n",
    "print(model)\n"
   ]
  },
  {
   "cell_type": "code",
   "execution_count": 8,
   "id": "001273ac-0089-48c5-b146-b0381d518e20",
   "metadata": {},
   "outputs": [
    {
     "name": "stderr",
     "output_type": "stream",
     "text": [
      "Missing logger folder: ../tb_logs/regressor\n",
      "\n",
      "  | Name | Type   | Params\n",
      "--------------------------------\n",
      "0 | fc1  | Linear | 480   \n",
      "1 | fc2  | Linear | 2.1 K \n",
      "2 | fc3  | Linear | 2.1 K \n",
      "3 | fc4  | Linear | 33    \n",
      "--------------------------------\n",
      "4.7 K     Trainable params\n",
      "0         Non-trainable params\n",
      "4.7 K     Total params\n",
      "0.019     Total estimated model params size (MB)\n",
      "/Users/sebastian/miniconda3/envs/housing_price_prediction/lib/python3.9/site-packages/pytorch_lightning/utilities/distributed.py:68: UserWarning: The dataloader, val dataloader 0, does not have many workers which may be a bottleneck. Consider increasing the value of the `num_workers` argument` (try 4 which is the number of cpus on this machine) in the `DataLoader` init to improve performance.\n",
      "  warnings.warn(*args, **kwargs)\n",
      "/Users/sebastian/miniconda3/envs/housing_price_prediction/lib/python3.9/site-packages/pytorch_lightning/utilities/distributed.py:68: UserWarning: The dataloader, train dataloader, does not have many workers which may be a bottleneck. Consider increasing the value of the `num_workers` argument` (try 4 which is the number of cpus on this machine) in the `DataLoader` init to improve performance.\n",
      "  warnings.warn(*args, **kwargs)\n",
      "Epoch 0, global step 42: avg_rmse_val reached 13.60997 (best 13.60997), saving model to \"/Users/sebastian/Repos/housing_price_prediction/model_checkpoints/epoch=0-avg_rmse_val=13.61.ckpt\" as top 1\n",
      "Epoch 1, global step 85: avg_rmse_val reached 8.45131 (best 8.45131), saving model to \"/Users/sebastian/Repos/housing_price_prediction/model_checkpoints/epoch=1-avg_rmse_val=8.45.ckpt\" as top 1\n",
      "Epoch 2, global step 128: avg_rmse_val reached 8.43949 (best 8.43949), saving model to \"/Users/sebastian/Repos/housing_price_prediction/model_checkpoints/epoch=2-avg_rmse_val=8.44.ckpt\" as top 1\n",
      "Epoch 3, global step 171: avg_rmse_val reached 8.28486 (best 8.28486), saving model to \"/Users/sebastian/Repos/housing_price_prediction/model_checkpoints/epoch=3-avg_rmse_val=8.28.ckpt\" as top 1\n",
      "Epoch 4, step 214: avg_rmse_val was not in top 1\n",
      "Epoch 5, step 257: avg_rmse_val was not in top 1\n",
      "Epoch 6, global step 300: avg_rmse_val reached 8.10044 (best 8.10044), saving model to \"/Users/sebastian/Repos/housing_price_prediction/model_checkpoints/epoch=6-avg_rmse_val=8.10.ckpt\" as top 1\n",
      "Epoch 7, step 343: avg_rmse_val was not in top 1\n",
      "Epoch 8, step 386: avg_rmse_val was not in top 1\n",
      "Epoch 9, step 429: avg_rmse_val was not in top 1\n",
      "Epoch 10, step 472: avg_rmse_val was not in top 1\n",
      "Epoch 11, global step 515: avg_rmse_val reached 8.03464 (best 8.03464), saving model to \"/Users/sebastian/Repos/housing_price_prediction/model_checkpoints/epoch=11-avg_rmse_val=8.03.ckpt\" as top 1\n",
      "Epoch 12, step 558: avg_rmse_val was not in top 1\n",
      "Epoch 13, step 601: avg_rmse_val was not in top 1\n",
      "Epoch 14, step 644: avg_rmse_val was not in top 1\n",
      "Epoch 15, step 687: avg_rmse_val was not in top 1\n",
      "Epoch 16, global step 730: avg_rmse_val reached 8.01862 (best 8.01862), saving model to \"/Users/sebastian/Repos/housing_price_prediction/model_checkpoints/epoch=16-avg_rmse_val=8.02.ckpt\" as top 1\n",
      "Epoch 17, global step 773: avg_rmse_val reached 7.91170 (best 7.91170), saving model to \"/Users/sebastian/Repos/housing_price_prediction/model_checkpoints/epoch=17-avg_rmse_val=7.91.ckpt\" as top 1\n",
      "Epoch 18, step 816: avg_rmse_val was not in top 1\n",
      "Epoch 19, step 859: avg_rmse_val was not in top 1\n",
      "Epoch 20, step 902: avg_rmse_val was not in top 1\n",
      "Epoch 21, step 945: avg_rmse_val was not in top 1\n",
      "Epoch 22, step 988: avg_rmse_val was not in top 1\n",
      "Epoch 23, step 1031: avg_rmse_val was not in top 1\n",
      "Epoch 24, step 1074: avg_rmse_val was not in top 1\n",
      "Epoch 25, step 1117: avg_rmse_val was not in top 1\n",
      "Epoch 26, step 1160: avg_rmse_val was not in top 1\n",
      "Epoch 27, step 1203: avg_rmse_val was not in top 1\n",
      "Epoch 28, step 1246: avg_rmse_val was not in top 1\n",
      "Epoch 29, global step 1289: avg_rmse_val reached 7.89254 (best 7.89254), saving model to \"/Users/sebastian/Repos/housing_price_prediction/model_checkpoints/epoch=29-avg_rmse_val=7.89.ckpt\" as top 1\n",
      "Epoch 30, global step 1332: avg_rmse_val reached 7.85803 (best 7.85803), saving model to \"/Users/sebastian/Repos/housing_price_prediction/model_checkpoints/epoch=30-avg_rmse_val=7.86.ckpt\" as top 1\n",
      "Epoch 31, step 1375: avg_rmse_val was not in top 1\n",
      "Epoch 32, step 1418: avg_rmse_val was not in top 1\n",
      "Epoch 33, step 1461: avg_rmse_val was not in top 1\n",
      "Epoch 34, global step 1504: avg_rmse_val reached 7.81712 (best 7.81712), saving model to \"/Users/sebastian/Repos/housing_price_prediction/model_checkpoints/epoch=34-avg_rmse_val=7.82.ckpt\" as top 1\n",
      "Epoch 35, step 1547: avg_rmse_val was not in top 1\n",
      "Epoch 36, step 1590: avg_rmse_val was not in top 1\n",
      "Epoch 37, step 1633: avg_rmse_val was not in top 1\n",
      "Epoch 38, step 1676: avg_rmse_val was not in top 1\n",
      "Epoch 39, step 1719: avg_rmse_val was not in top 1\n",
      "Epoch 40, step 1762: avg_rmse_val was not in top 1\n",
      "Epoch 41, step 1805: avg_rmse_val was not in top 1\n",
      "Epoch 42, step 1848: avg_rmse_val was not in top 1\n",
      "Epoch 43, step 1891: avg_rmse_val was not in top 1\n",
      "Epoch 44, global step 1934: avg_rmse_val reached 7.78219 (best 7.78219), saving model to \"/Users/sebastian/Repos/housing_price_prediction/model_checkpoints/epoch=44-avg_rmse_val=7.78.ckpt\" as top 1\n",
      "Epoch 45, step 1977: avg_rmse_val was not in top 1\n",
      "Epoch 46, step 2020: avg_rmse_val was not in top 1\n",
      "Epoch 47, step 2063: avg_rmse_val was not in top 1\n",
      "Epoch 48, step 2106: avg_rmse_val was not in top 1\n",
      "Epoch 49, step 2149: avg_rmse_val was not in top 1\n",
      "Epoch 50, step 2192: avg_rmse_val was not in top 1\n",
      "Epoch 51, step 2235: avg_rmse_val was not in top 1\n",
      "Epoch 52, step 2278: avg_rmse_val was not in top 1\n",
      "Epoch 53, step 2321: avg_rmse_val was not in top 1\n",
      "Epoch 54, step 2364: avg_rmse_val was not in top 1\n",
      "Epoch 55, global step 2407: avg_rmse_val reached 7.75347 (best 7.75347), saving model to \"/Users/sebastian/Repos/housing_price_prediction/model_checkpoints/epoch=55-avg_rmse_val=7.75.ckpt\" as top 1\n",
      "Epoch 56, step 2450: avg_rmse_val was not in top 1\n",
      "Epoch 57, global step 2493: avg_rmse_val reached 7.74092 (best 7.74092), saving model to \"/Users/sebastian/Repos/housing_price_prediction/model_checkpoints/epoch=57-avg_rmse_val=7.74.ckpt\" as top 1\n",
      "Epoch 58, step 2536: avg_rmse_val was not in top 1\n",
      "Epoch 59, step 2579: avg_rmse_val was not in top 1\n",
      "Epoch 60, step 2622: avg_rmse_val was not in top 1\n",
      "Epoch 61, step 2665: avg_rmse_val was not in top 1\n",
      "Epoch 62, step 2708: avg_rmse_val was not in top 1\n",
      "Epoch 63, step 2751: avg_rmse_val was not in top 1\n",
      "Epoch 64, step 2794: avg_rmse_val was not in top 1\n",
      "Epoch 65, step 2837: avg_rmse_val was not in top 1\n",
      "Epoch 66, global step 2880: avg_rmse_val reached 7.73341 (best 7.73341), saving model to \"/Users/sebastian/Repos/housing_price_prediction/model_checkpoints/epoch=66-avg_rmse_val=7.73.ckpt\" as top 1\n",
      "Epoch 67, step 2923: avg_rmse_val was not in top 1\n",
      "Epoch 68, step 2966: avg_rmse_val was not in top 1\n",
      "Epoch 69, global step 3009: avg_rmse_val reached 7.63141 (best 7.63141), saving model to \"/Users/sebastian/Repos/housing_price_prediction/model_checkpoints/epoch=69-avg_rmse_val=7.63.ckpt\" as top 1\n",
      "Epoch 70, step 3052: avg_rmse_val was not in top 1\n",
      "Epoch 71, step 3095: avg_rmse_val was not in top 1\n",
      "Epoch 72, step 3138: avg_rmse_val was not in top 1\n",
      "Epoch 73, step 3181: avg_rmse_val was not in top 1\n",
      "Epoch 74, step 3224: avg_rmse_val was not in top 1\n",
      "Epoch 75, step 3267: avg_rmse_val was not in top 1\n",
      "Epoch 76, step 3310: avg_rmse_val was not in top 1\n",
      "Epoch 77, step 3353: avg_rmse_val was not in top 1\n",
      "Epoch 78, global step 3396: avg_rmse_val reached 7.62541 (best 7.62541), saving model to \"/Users/sebastian/Repos/housing_price_prediction/model_checkpoints/epoch=78-avg_rmse_val=7.63.ckpt\" as top 1\n",
      "Epoch 79, step 3439: avg_rmse_val was not in top 1\n",
      "Epoch 80, step 3482: avg_rmse_val was not in top 1\n",
      "Epoch 81, step 3525: avg_rmse_val was not in top 1\n",
      "Epoch 82, step 3568: avg_rmse_val was not in top 1\n",
      "Epoch 83, step 3611: avg_rmse_val was not in top 1\n",
      "Epoch 84, step 3654: avg_rmse_val was not in top 1\n",
      "Epoch 85, step 3697: avg_rmse_val was not in top 1\n",
      "Epoch 86, step 3740: avg_rmse_val was not in top 1\n",
      "Epoch 87, step 3783: avg_rmse_val was not in top 1\n",
      "Epoch 88, step 3826: avg_rmse_val was not in top 1\n",
      "Epoch 89, step 3869: avg_rmse_val was not in top 1\n",
      "Epoch 90, step 3912: avg_rmse_val was not in top 1\n",
      "Epoch 91, step 3955: avg_rmse_val was not in top 1\n",
      "Epoch 92, step 3998: avg_rmse_val was not in top 1\n",
      "Epoch 93, step 4041: avg_rmse_val was not in top 1\n",
      "Epoch 94, step 4084: avg_rmse_val was not in top 1\n",
      "Epoch 95, step 4127: avg_rmse_val was not in top 1\n",
      "Epoch 96, step 4170: avg_rmse_val was not in top 1\n",
      "Epoch 97, step 4213: avg_rmse_val was not in top 1\n",
      "Epoch 98, step 4256: avg_rmse_val was not in top 1\n",
      "Epoch 99, step 4299: avg_rmse_val was not in top 1\n"
     ]
    },
    {
     "data": {
      "text/plain": [
       "1"
      ]
     },
     "execution_count": 8,
     "metadata": {},
     "output_type": "execute_result"
    }
   ],
   "source": [
    "# train\n",
    "\n",
    "trainer.fit(model, train_dataloader=train_loader, val_dataloaders=val_loader)\n"
   ]
  },
  {
   "cell_type": "code",
   "execution_count": 9,
   "id": "03f3a155-64f5-408c-89c6-d539173ae522",
   "metadata": {},
   "outputs": [
    {
     "name": "stdout",
     "output_type": "stream",
     "text": [
      "RMSE val: 7.88\n",
      "RMSE test: 8.25\n"
     ]
    }
   ],
   "source": [
    "model.eval()\n",
    "\n",
    "with torch.no_grad():\n",
    "    pred_val = model(torch.tensor(X_val.values).float())\n",
    "    pred_test = model(torch.tensor(X_test.values).float())\n",
    "\n",
    "y_val['price_gain_pred'] = pred_val.numpy()\n",
    "rmse_val = np.sqrt(mean_squared_error(y_val.price_gain, y_val.price_gain_pred))\n",
    "    \n",
    "y_test['price_gain_pred'] = pred_test.numpy()\n",
    "rmse_test = np.sqrt(mean_squared_error(y_test.price_gain, y_test.price_gain_pred))\n",
    "\n",
    "print(f'RMSE val: {rmse_val:.2f}')\n",
    "print(f'RMSE test: {rmse_test:.2f}')\n"
   ]
  },
  {
   "cell_type": "code",
   "execution_count": null,
   "id": "5493314e-26f7-4e68-9592-7906a2aae379",
   "metadata": {},
   "outputs": [],
   "source": [
    "\n"
   ]
  },
  {
   "cell_type": "code",
   "execution_count": null,
   "id": "2edbbf0a-1b03-42ad-b4cc-209c918893c0",
   "metadata": {},
   "outputs": [],
   "source": []
  }
 ],
 "metadata": {
  "kernelspec": {
   "display_name": "Python 3",
   "language": "python",
   "name": "python3"
  },
  "language_info": {
   "codemirror_mode": {
    "name": "ipython",
    "version": 3
   },
   "file_extension": ".py",
   "mimetype": "text/x-python",
   "name": "python",
   "nbconvert_exporter": "python",
   "pygments_lexer": "ipython3",
   "version": "3.9.4"
  }
 },
 "nbformat": 4,
 "nbformat_minor": 5
}
