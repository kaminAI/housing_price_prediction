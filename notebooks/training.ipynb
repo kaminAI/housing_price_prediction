{
 "cells": [
  {
   "cell_type": "code",
   "execution_count": 1,
   "id": "26afac29-5da6-46ea-b302-486dcb3a8755",
   "metadata": {},
   "outputs": [],
   "source": [
    "%load_ext autoreload\n",
    "%autoreload 2\n",
    "\n",
    "import os; import sys; from pathlib import Path\n",
    "root = Path(os.getcwd()).parents[0]\n",
    "sys.path.append(str(root))\n"
   ]
  },
  {
   "cell_type": "code",
   "execution_count": 2,
   "id": "a8fc62f5-af5b-42ee-a3c7-c8538c846ddf",
   "metadata": {},
   "outputs": [],
   "source": [
    "import pandas as pd\n",
    "import numpy as np\n",
    "from sklearn import linear_model \n",
    "from sklearn.metrics import mean_squared_error\n",
    "from torch.utils.data import DataLoader, TensorDataset\n",
    "from pytorch_lightning.callbacks import ModelCheckpoint\n",
    "import torch\n",
    "import pytorch_lightning as pl\n",
    "from src.model import Regressor\n"
   ]
  },
  {
   "cell_type": "code",
   "execution_count": 3,
   "id": "0097e969-914f-450c-ab8f-e2e4f324dfe1",
   "metadata": {},
   "outputs": [],
   "source": [
    "# load data\n",
    "\n",
    "X_train = pd.read_csv('../data/X_train.csv')\n",
    "X_val = pd.read_csv('../data/X_val.csv')\n",
    "X_test = pd.read_csv('../data/X_test.csv')\n",
    "y_train = pd.read_csv('../data/y_train.csv')\n",
    "y_val = pd.read_csv('../data/y_val.csv')\n",
    "y_test = pd.read_csv('../data/y_test.csv')\n"
   ]
  },
  {
   "cell_type": "code",
   "execution_count": 4,
   "id": "1101f787-3d78-4171-bfbf-e3b056e7609c",
   "metadata": {},
   "outputs": [
    {
     "name": "stdout",
     "output_type": "stream",
     "text": [
      "RMSE val: 7.93\n",
      "RMSE test: 12.03\n"
     ]
    }
   ],
   "source": [
    "# simple model, baseline \n",
    "\n",
    "regr = linear_model.LinearRegression()\n",
    "regr.fit(X_train, y_train)\n",
    "\n",
    "y_pred_val = regr.predict(X_val)\n",
    "rmse_val = np.sqrt(mean_squared_error(y_val, y_pred_val))\n",
    "print(f'RMSE val: {rmse_val:.2f}')\n",
    "\n",
    "y_pred_test = regr.predict(X_test)\n",
    "rmse_test = np.sqrt(mean_squared_error(y_test, y_pred_test))\n",
    "print(f'RMSE test: {rmse_test:.2f}')\n"
   ]
  },
  {
   "cell_type": "code",
   "execution_count": 5,
   "id": "c2d8dd3b-ed66-43ca-9078-8bcab8a5e6a3",
   "metadata": {},
   "outputs": [],
   "source": [
    "# hot DL model\n",
    "# ref: \n",
    "    # https://pytorch-lightning.readthedocs.io/en/latest/starter/introduction_guide.html\n",
    "    # https://colab.research.google.com/github/PytorchLightning/pytorch-lightning/blob/master/notebooks/01-mnist-hello-world.ipynb#scrollTo=PA151FkLtprO\n"
   ]
  },
  {
   "cell_type": "code",
   "execution_count": 6,
   "id": "e2dc0598-9034-4abc-942e-0235c115dacb",
   "metadata": {},
   "outputs": [],
   "source": [
    "# prepare data loaders\n",
    "\n",
    "train_dataset = TensorDataset(\n",
    "    torch.tensor(X_train.values).float(),\n",
    "    torch.tensor(y_train.values).float()\n",
    ")\n",
    "\n",
    "train_loader = DataLoader(\n",
    "    dataset=train_dataset,\n",
    "    batch_size=16,\n",
    "    num_workers=4,\n",
    "    shuffle=True\n",
    ")\n",
    "\n",
    "val_dataset = TensorDataset(\n",
    "    torch.tensor(X_val.values).float(),\n",
    "    torch.tensor(y_val.values).float()\n",
    ")\n",
    "\n",
    "val_loader = DataLoader(\n",
    "    dataset=val_dataset,\n",
    "    batch_size=16,\n",
    "    num_workers=4,\n",
    "    shuffle=False\n",
    ")\n"
   ]
  },
  {
   "cell_type": "code",
   "execution_count": 7,
   "id": "c94b1f09-6750-44fc-9724-fea865b4c2a8",
   "metadata": {},
   "outputs": [
    {
     "name": "stderr",
     "output_type": "stream",
     "text": [
      "/Users/sebastian/miniconda3/envs/housing_price_prediction/lib/python3.9/site-packages/pytorch_lightning/utilities/distributed.py:68: UserWarning: Checkpoint directory ../model_checkpoints exists and is not empty.\n",
      "  warnings.warn(*args, **kwargs)\n",
      "GPU available: False, used: False\n",
      "TPU available: False, using: 0 TPU cores\n"
     ]
    },
    {
     "name": "stdout",
     "output_type": "stream",
     "text": [
      "Regressor(\n",
      "  (fc1): Linear(in_features=14, out_features=128, bias=True)\n",
      "  (fc2): Linear(in_features=128, out_features=256, bias=True)\n",
      "  (fc3): Linear(in_features=256, out_features=256, bias=True)\n",
      "  (fc4): Linear(in_features=256, out_features=256, bias=True)\n",
      "  (fc5): Linear(in_features=256, out_features=1, bias=True)\n",
      ")\n"
     ]
    }
   ],
   "source": [
    "# prepare training\n",
    "\n",
    "logger = pl.loggers.TensorBoardLogger('../tb_logs', name='regressor')\n",
    "# inspect by tensorboard --logdir ./tb_logs\n",
    "\n",
    "checkpoint_callback = ModelCheckpoint(\n",
    "    monitor='avg_rmse_val',\n",
    "    mode='min',\n",
    "    dirpath='../model_checkpoints',\n",
    "    filename='{epoch}-{avg_rmse_val:.2f}',\n",
    "    save_top_k=1,\n",
    "    verbose=True,\n",
    ")\n",
    "\n",
    "trainer = pl.Trainer(\n",
    "    fast_dev_run=False,\n",
    "    max_epochs=100,\n",
    "    logger=logger,\n",
    "    callbacks=[checkpoint_callback],\n",
    "    progress_bar_refresh_rate=0\n",
    ")  \n",
    "\n",
    "model = Regressor()\n",
    "print(model)\n"
   ]
  },
  {
   "cell_type": "code",
   "execution_count": 8,
   "id": "001273ac-0089-48c5-b146-b0381d518e20",
   "metadata": {},
   "outputs": [
    {
     "name": "stderr",
     "output_type": "stream",
     "text": [
      "\n",
      "  | Name | Type   | Params\n",
      "--------------------------------\n",
      "0 | fc1  | Linear | 1.9 K \n",
      "1 | fc2  | Linear | 33.0 K\n",
      "2 | fc3  | Linear | 65.8 K\n",
      "3 | fc4  | Linear | 65.8 K\n",
      "4 | fc5  | Linear | 257   \n",
      "--------------------------------\n",
      "166 K     Trainable params\n",
      "0         Non-trainable params\n",
      "166 K     Total params\n",
      "0.667     Total estimated model params size (MB)\n",
      "Epoch 0, global step 7: avg_rmse_val reached 14.76496 (best 14.76496), saving model to \"/Users/sebastian/Repos/housing_price_prediction/model_checkpoints/epoch=0-avg_rmse_val=14.76.ckpt\" as top 1\n",
      "Epoch 1, global step 15: avg_rmse_val reached 8.12523 (best 8.12523), saving model to \"/Users/sebastian/Repos/housing_price_prediction/model_checkpoints/epoch=1-avg_rmse_val=8.13.ckpt\" as top 1\n",
      "Epoch 2, step 23: avg_rmse_val was not in top 1\n",
      "Epoch 3, step 31: avg_rmse_val was not in top 1\n",
      "Epoch 4, global step 39: avg_rmse_val reached 7.86453 (best 7.86453), saving model to \"/Users/sebastian/Repos/housing_price_prediction/model_checkpoints/epoch=4-avg_rmse_val=7.86.ckpt\" as top 1\n",
      "Epoch 5, step 47: avg_rmse_val was not in top 1\n",
      "Epoch 6, global step 55: avg_rmse_val reached 7.71260 (best 7.71260), saving model to \"/Users/sebastian/Repos/housing_price_prediction/model_checkpoints/epoch=6-avg_rmse_val=7.71.ckpt\" as top 1\n",
      "Epoch 7, step 63: avg_rmse_val was not in top 1\n",
      "Epoch 8, step 71: avg_rmse_val was not in top 1\n",
      "Epoch 9, step 79: avg_rmse_val was not in top 1\n",
      "Epoch 10, step 87: avg_rmse_val was not in top 1\n",
      "Epoch 11, step 95: avg_rmse_val was not in top 1\n",
      "Epoch 12, step 103: avg_rmse_val was not in top 1\n",
      "Epoch 13, step 111: avg_rmse_val was not in top 1\n",
      "Epoch 14, step 119: avg_rmse_val was not in top 1\n",
      "Epoch 15, step 127: avg_rmse_val was not in top 1\n",
      "Epoch 16, step 135: avg_rmse_val was not in top 1\n",
      "Epoch 17, step 143: avg_rmse_val was not in top 1\n",
      "Epoch 18, global step 151: avg_rmse_val reached 7.70009 (best 7.70009), saving model to \"/Users/sebastian/Repos/housing_price_prediction/model_checkpoints/epoch=18-avg_rmse_val=7.70.ckpt\" as top 1\n",
      "Epoch 19, global step 159: avg_rmse_val reached 7.68005 (best 7.68005), saving model to \"/Users/sebastian/Repos/housing_price_prediction/model_checkpoints/epoch=19-avg_rmse_val=7.68.ckpt\" as top 1\n",
      "Epoch 20, step 167: avg_rmse_val was not in top 1\n",
      "Epoch 21, step 175: avg_rmse_val was not in top 1\n",
      "Epoch 22, step 183: avg_rmse_val was not in top 1\n",
      "Epoch 23, global step 191: avg_rmse_val reached 7.57153 (best 7.57153), saving model to \"/Users/sebastian/Repos/housing_price_prediction/model_checkpoints/epoch=23-avg_rmse_val=7.57.ckpt\" as top 1\n",
      "Epoch 24, step 199: avg_rmse_val was not in top 1\n",
      "Epoch 25, step 207: avg_rmse_val was not in top 1\n",
      "Epoch 26, step 215: avg_rmse_val was not in top 1\n",
      "Epoch 27, step 223: avg_rmse_val was not in top 1\n",
      "Epoch 28, step 231: avg_rmse_val was not in top 1\n",
      "Epoch 29, step 239: avg_rmse_val was not in top 1\n",
      "Epoch 30, step 247: avg_rmse_val was not in top 1\n",
      "Epoch 31, step 255: avg_rmse_val was not in top 1\n",
      "Epoch 32, step 263: avg_rmse_val was not in top 1\n",
      "Epoch 33, step 271: avg_rmse_val was not in top 1\n",
      "Epoch 34, step 279: avg_rmse_val was not in top 1\n",
      "Epoch 35, step 287: avg_rmse_val was not in top 1\n",
      "Epoch 36, step 295: avg_rmse_val was not in top 1\n",
      "Epoch 37, step 303: avg_rmse_val was not in top 1\n",
      "Epoch 38, step 311: avg_rmse_val was not in top 1\n",
      "Epoch 39, step 319: avg_rmse_val was not in top 1\n",
      "Epoch 40, step 327: avg_rmse_val was not in top 1\n",
      "Epoch 41, step 335: avg_rmse_val was not in top 1\n",
      "Epoch 42, step 343: avg_rmse_val was not in top 1\n",
      "Epoch 43, step 351: avg_rmse_val was not in top 1\n",
      "Epoch 44, step 359: avg_rmse_val was not in top 1\n",
      "Epoch 45, step 367: avg_rmse_val was not in top 1\n",
      "Epoch 46, step 375: avg_rmse_val was not in top 1\n",
      "Epoch 47, step 383: avg_rmse_val was not in top 1\n",
      "Epoch 48, step 391: avg_rmse_val was not in top 1\n",
      "Epoch 49, step 399: avg_rmse_val was not in top 1\n",
      "Epoch 50, step 407: avg_rmse_val was not in top 1\n",
      "Epoch 51, step 415: avg_rmse_val was not in top 1\n",
      "Epoch 52, step 423: avg_rmse_val was not in top 1\n",
      "Epoch 53, step 431: avg_rmse_val was not in top 1\n",
      "Epoch 54, step 439: avg_rmse_val was not in top 1\n",
      "Epoch 55, step 447: avg_rmse_val was not in top 1\n",
      "Epoch 56, step 455: avg_rmse_val was not in top 1\n",
      "Epoch 57, step 463: avg_rmse_val was not in top 1\n",
      "Epoch 58, step 471: avg_rmse_val was not in top 1\n",
      "Epoch 59, step 479: avg_rmse_val was not in top 1\n",
      "Epoch 60, step 487: avg_rmse_val was not in top 1\n",
      "Epoch 61, step 495: avg_rmse_val was not in top 1\n",
      "Epoch 62, step 503: avg_rmse_val was not in top 1\n",
      "Epoch 63, step 511: avg_rmse_val was not in top 1\n",
      "Epoch 64, step 519: avg_rmse_val was not in top 1\n",
      "Epoch 65, step 527: avg_rmse_val was not in top 1\n",
      "Epoch 66, step 535: avg_rmse_val was not in top 1\n",
      "Epoch 67, step 543: avg_rmse_val was not in top 1\n",
      "Epoch 68, step 551: avg_rmse_val was not in top 1\n",
      "Epoch 69, step 559: avg_rmse_val was not in top 1\n",
      "Epoch 70, step 567: avg_rmse_val was not in top 1\n",
      "Epoch 71, step 575: avg_rmse_val was not in top 1\n",
      "Epoch 72, step 583: avg_rmse_val was not in top 1\n",
      "Epoch 73, step 591: avg_rmse_val was not in top 1\n",
      "Epoch 74, step 599: avg_rmse_val was not in top 1\n",
      "Epoch 75, step 607: avg_rmse_val was not in top 1\n",
      "Epoch 76, step 615: avg_rmse_val was not in top 1\n",
      "Epoch 77, step 623: avg_rmse_val was not in top 1\n",
      "Epoch 78, step 631: avg_rmse_val was not in top 1\n",
      "Epoch 79, step 639: avg_rmse_val was not in top 1\n",
      "Epoch 80, step 647: avg_rmse_val was not in top 1\n",
      "Epoch 81, step 655: avg_rmse_val was not in top 1\n",
      "Epoch 82, step 663: avg_rmse_val was not in top 1\n",
      "Epoch 83, step 671: avg_rmse_val was not in top 1\n",
      "Epoch 84, step 679: avg_rmse_val was not in top 1\n",
      "Epoch 85, step 687: avg_rmse_val was not in top 1\n",
      "Epoch 86, step 695: avg_rmse_val was not in top 1\n",
      "Epoch 87, step 703: avg_rmse_val was not in top 1\n",
      "Epoch 88, step 711: avg_rmse_val was not in top 1\n",
      "Epoch 89, step 719: avg_rmse_val was not in top 1\n",
      "Epoch 90, step 727: avg_rmse_val was not in top 1\n",
      "Epoch 91, step 735: avg_rmse_val was not in top 1\n",
      "Epoch 92, step 743: avg_rmse_val was not in top 1\n",
      "Epoch 93, step 751: avg_rmse_val was not in top 1\n",
      "Epoch 94, step 759: avg_rmse_val was not in top 1\n",
      "Epoch 95, step 767: avg_rmse_val was not in top 1\n",
      "Epoch 96, step 775: avg_rmse_val was not in top 1\n",
      "Epoch 97, step 783: avg_rmse_val was not in top 1\n",
      "Epoch 98, step 791: avg_rmse_val was not in top 1\n",
      "Epoch 99, step 799: avg_rmse_val was not in top 1\n"
     ]
    },
    {
     "data": {
      "text/plain": [
       "1"
      ]
     },
     "execution_count": 8,
     "metadata": {},
     "output_type": "execute_result"
    }
   ],
   "source": [
    "# train\n",
    "\n",
    "trainer.fit(model, train_dataloader=train_loader, val_dataloaders=val_loader)\n"
   ]
  },
  {
   "cell_type": "code",
   "execution_count": 9,
   "id": "03f3a155-64f5-408c-89c6-d539173ae522",
   "metadata": {},
   "outputs": [
    {
     "name": "stdout",
     "output_type": "stream",
     "text": [
      "RMSE val: 8.25\n",
      "RMSE test: 12.50\n"
     ]
    }
   ],
   "source": [
    "model.eval()\n",
    "\n",
    "with torch.no_grad():\n",
    "    pred_val = model(torch.tensor(X_val.values).float())\n",
    "    pred_test = model(torch.tensor(X_test.values).float())\n",
    "\n",
    "y_val['price_gain_pred'] = pred_val.numpy()\n",
    "rmse_val = np.sqrt(mean_squared_error(y_val.price_gain, y_val.price_gain_pred))\n",
    "    \n",
    "y_test['price_gain_pred'] = pred_test.numpy()\n",
    "rmse_test = np.sqrt(mean_squared_error(y_test.price_gain, y_test.price_gain_pred))\n",
    "\n",
    "print(f'RMSE val: {rmse_val:.2f}')\n",
    "print(f'RMSE test: {rmse_test:.2f}')\n"
   ]
  },
  {
   "cell_type": "code",
   "execution_count": 10,
   "id": "5493314e-26f7-4e68-9592-7906a2aae379",
   "metadata": {},
   "outputs": [
    {
     "name": "stdout",
     "output_type": "stream",
     "text": [
      "RMSE val: 7.43\n",
      "RMSE test: 11.04\n"
     ]
    }
   ],
   "source": [
    "model_loaded = Regressor().load_from_checkpoint('../model_checkpoints/epoch=35-avg_rmse_val=7.43.ckpt')\n",
    "model_loaded.eval()\n",
    "\n",
    "with torch.no_grad():\n",
    "    pred_val = model_loaded(torch.tensor(X_val.values).float())\n",
    "    pred_test = model_loaded(torch.tensor(X_test.values).float())\n",
    "\n",
    "y_val['price_gain_pred'] = pred_val.numpy()\n",
    "rmse_val = np.sqrt(mean_squared_error(y_val.price_gain, y_val.price_gain_pred))\n",
    "    \n",
    "y_test['price_gain_pred'] = pred_test.numpy()\n",
    "rmse_test = np.sqrt(mean_squared_error(y_test.price_gain, y_test.price_gain_pred))\n",
    "\n",
    "print(f'RMSE val: {rmse_val:.2f}')\n",
    "print(f'RMSE test: {rmse_test:.2f}')\n"
   ]
  },
  {
   "cell_type": "code",
   "execution_count": null,
   "id": "2edbbf0a-1b03-42ad-b4cc-209c918893c0",
   "metadata": {},
   "outputs": [],
   "source": []
  }
 ],
 "metadata": {
  "kernelspec": {
   "display_name": "Python 3",
   "language": "python",
   "name": "python3"
  },
  "language_info": {
   "codemirror_mode": {
    "name": "ipython",
    "version": 3
   },
   "file_extension": ".py",
   "mimetype": "text/x-python",
   "name": "python",
   "nbconvert_exporter": "python",
   "pygments_lexer": "ipython3",
   "version": "3.9.4"
  }
 },
 "nbformat": 4,
 "nbformat_minor": 5
}
